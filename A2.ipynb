{
 "cells": [
  {
   "cell_type": "markdown",
   "metadata": {},
   "source": [
    "各种模型\n",
    "\n",
    "W4：逻辑+LDA+QDA 【分类方法】             https://www.cnblogs.com/xingshansi/p/6892317.html\n",
    "                             https://zhuanlan.zhihu.com/p/89727172\n",
    "                                \n",
    "W5：采样和验证【重采样方法】（CV，bootstrap）https://zhuanlan.zhihu.com/p/49035473 \n",
    "\n",
    "W6：调整均值和过大参数【评估模型】（Lasso, Ridge, Elastic）:https://zhuanlan.zhihu.com/p/30535220\n",
    "    Elastic: https://blog.csdn.net/xgxyxs/article/details/79436219\n",
    "\n",
    "W7: 非线性模型（多项式， 回归样条，广义加性模型）\n",
    "\n",
    "W8：树分类器（决策树，随机森林，Bagging）\n",
    "\n",
    "W9：SVM分类器   https://zhuanlan.zhihu.com/p/26891427\n",
    "\n",
    "\n",
    "批量解析xml\n",
    "https://blog.csdn.net/baidu_32936911/article/details/79676400\n",
    "\n",
    "https://blog.csdn.net/W_weiying/article/details/81384954"
   ]
  },
  {
   "cell_type": "markdown",
   "metadata": {},
   "source": [
    "### Preprocessing"
   ]
  },
  {
   "cell_type": "code",
   "execution_count": 2,
   "metadata": {},
   "outputs": [],
   "source": [
    "import pandas as pd\n",
    "import os\n",
    "import os.path\n",
    "import re\n",
    "import xml.etree.ElementTree as ET\n",
    "\n",
    "import nltk\n",
    "from nltk.tokenize import RegexpTokenizer\n",
    "from nltk.corpus import stopwords\n",
    "from nltk import word_tokenize    \n",
    "from nltk.tokenize import wordpunct_tokenize\n",
    "from nltk.stem import WordNetLemmatizer\n",
    "from sklearn.feature_extraction.text import TfidfVectorizer"
   ]
  },
  {
   "cell_type": "code",
   "execution_count": 3,
   "metadata": {},
   "outputs": [
    {
     "name": "stdout",
     "output_type": "stream",
     "text": [
      "D:\\GitFiles\\5149\\A2\\Assessment2\\data\n"
     ]
    },
    {
     "data": {
      "text/plain": [
       "['1003de26f870d27f79887272a1eb3612.xml',\n",
       " '102cce280df9f6e0e78bfdd266f1abb5.xml',\n",
       " '10488b3700fa9d2db22961ab064e4d38.xml',\n",
       " '1064bd0b78f14bea5b851e2a995dd4e5.xml']"
      ]
     },
     "execution_count": 3,
     "metadata": {},
     "output_type": "execute_result"
    }
   ],
   "source": [
    "file_path = os.path.abspath('./data') \n",
    "print(file_path)\n",
    "file_access = os.listdir(file_path)\n",
    "xmls = [file for file in file_access if file.endswith('.xml')]\n",
    "xmls[0:4]"
   ]
  },
  {
   "cell_type": "code",
   "execution_count": 4,
   "metadata": {},
   "outputs": [],
   "source": [
    "t1 = xmls[0]\n",
    "path = os.path.join('./data/', t1)\n",
    "\n",
    "try_dt = ET.parse(path)\n",
    "\n",
    "elements = try_dt.getroot()"
   ]
  },
  {
   "cell_type": "code",
   "execution_count": 5,
   "metadata": {},
   "outputs": [
    {
     "name": "stdout",
     "output_type": "stream",
     "text": [
      "One to watch … \n",
      "Available on 10th Feb. https://t.co/l1FOX1Yg9O\n",
      "100\n"
     ]
    }
   ],
   "source": [
    "print(elements[0][0].text)\n",
    "\n",
    "print(len(elements[0]))"
   ]
  },
  {
   "cell_type": "code",
   "execution_count": 6,
   "metadata": {},
   "outputs": [],
   "source": [
    "def get_cdata(elements):\n",
    "    \n",
    "    i = 0\n",
    "    j = 0\n",
    "    str_ls = []\n",
    "    \n",
    "    txt = elements[0]\n",
    "    \n",
    "    for i in range(len(txt)):\n",
    "        t = txt[i].text\n",
    "        str_ls.append(t)\n",
    "        \n",
    "    return str_ls"
   ]
  },
  {
   "cell_type": "code",
   "execution_count": 7,
   "metadata": {},
   "outputs": [
    {
     "name": "stdout",
     "output_type": "stream",
     "text": [
      "['One to watch … \\nAvailable on 10th Feb. https://t.co/l1FOX1Yg9O', '@kirkj @deleifd There are 3 complete sets in each box of batman minifigs. Find two others who want all the figs and buy a box between you. 🤘', '@deleifd If you have 1, 3, (maybe 5), 10 or 14, we can come to some arrangement. 👍', \"@deleifd I've heard that numerous other toyworlds are still numbering, despite the warning. Damn it. I'm only after 6 of the 20.\", 'Just heard about a new Web Dev meetup in The Hutt. Spread the good word!\\nhttps://t.co/BlgGNdGPUP', 'Hullo. Anyone have a travel rest pillow I could borrow for a long trip?', \"@emstrx My face is one big ache after a dental visit. I'm off home to eat mush.\", '@julianwoodhouse Thanks for that! \\ncc @mr_orgue', 'Hmm, that’s just Wgtn. \\nFor Hutt, try https://t.co/O5tuokOfcQ... &gt; Tap Layers icon (bottom left) &gt; Tap Tsunami Zone option. cc @mr_orgue', '@kirkj Thankyou Kirk! I’d seen the maps in your first link, but not this second one. \\\\m/ cc @mr_orgue', 'Anyone know where I might find some decent resolution tsunami zone maps for Wellington &amp; Hutt?\\ncc: @Koordinates', '@sereeena I’ve just put some Slayer on the stereo here. \\n\\n༼ノಠل͟ಠ༽ノ-︵-┻━┻', 'Stunned white guy retweets. https://t.co/0mVZ3RIlg4', '@bpujji Someone very near and dear to me, who may or may not have wanted to be named.', 'Introduced someone to Lemon Jelly. Yussss (Highest five to @FredDeakin)', '@jarred Hi Faive.', '@jarred What the font is saying Harriet Display Italic (Bold?)', 'Started off the day with Freebird. Followed by Don’t Fear the Reaper. Up next: the entirety of Deep Purple’s Machine Head. #rockinprototypin', '@hellomisspotter Ahh, didn’t know you’d moved. Enjoy!', '@hellomisspotter CrossFit Hutt Valley (Petone/Alicetown border) is well recommended by folk I know well. Good community.', '@microsoftnz I was thinking more https://t.co/kscIMVlJxt', \"@_d___d_ it's no actually all that great. Weather depending. 😉\", '@theraromachine @_grafik Get these instead! https://t.co/iYXxtKhkgJ mmmmMmmmm.', '@lizyjoy There will be trouble ahead. This is going to embolden militant sorts.', 'A lot of knee jerking on the tweets today. The surface pro video makes me really miss the drafting table. The MacBook Pro looks like fun.', '@nzjames It came with a copy of a starwars lego magazine available in the UK, that a friend kindly sent me. I’d like about 30 more myself!', 'Welcomed a new addition to the family today. So cute! https://t.co/M2x06UzKQx', \"@four_seven it's a mystery adventure thingy!\", \"@ActionFigured That's great! Liking your corners too. Good touch.\", '@katedarby_ Heya. Are you still looking for a bestawards ticket? cc @KirstiGrant', '@nwmetro So you know, no sign of the free farmed ham. Just got told “No.”', '@BR4DY Congratulations on the Community Board position, fella. Very promising council vote too. Playing the long game 🤘', 'Looking forward to getting out to the @DesignMeetupNZ DesignPro event tonight! I’ve not been out for aaaages. Well, since Steve Krug anyhow.', '@Sereeena not seeing the context for this. You okay?', '@sourcecraft Heh. Well spotted.', \"@craighamnett you are correct in the sense that I'm not able to level up. Hugs for you 'n' G.\", 'Playing @kerretta on the big speakers to kickstart the day in the office. Perfect.', \"@aliseflannery Heya Alise. If you do need a hand with creative event stuff, I'd be keen to chat. Cheers :)\", '@uxpaul @dafttom @femkesvs Three wonderful talented people. 😊', '@NWMetro ✋\\nHere’s a customer vote for free-farmed/free-range ham in your deli.', '@dafttom I WANT THESE THINGS!! So cool.\\n@reasonsto @uxpaul @femkesvs', 'After yesterday’s specific hunger … the Yummly email today is bringing it home. https://t.co/pD7T6K95Js', '@hannahcooknz Heh, not been to the Colonial for years!', '@hannahcooknz I appreciate your fine eye for quality bacon though. :)', '@hannahcooknz Tasty bacon, tiny bread &amp; long way from me right now … :(', 'Where, o Wellington, are your fine bacon sandwiches?', '@jamesmacfie @jamiepenney End of an era! Thanks for being awesome during my time there... And quite possibly since then too. 🤘🏻', 'Check me out doing shit with Git. Rebase’n the production master deploy push’n’pull checkout something or other. Winning! #igotthis #um', '@iamkey I have that pain too.', 'Master of Puppets, full album, out loud, at work. Yup. 👍', '@deleifd Oooooooh! Very jealous! Cc @skruff', '@nobu_tary hmm. Very careful use of superglue could help get it out... Or could ruin the piece more.', '@reignofapril @swissmiss Cosmo also posted this … https://t.co/HZwi69nkTP', 'DESIGN DISRUPTORS\\nScreening tonight @ the Embassy.\\nhttps://t.co/JEcXCY4aGT\\n(Get tickets online, not on door)', '@gemzina Spotted your tweet on pokémon hunting in Petone. For future reference : https://t.co/1w2nE62iWw', '@mexisme @jethrocarr Spotted your tweet on pokémon hunting in Petone. For future reference : https://t.co/1w2nE62iWw', '@ethernetsalad Spotted your tweet on pokémon hunting in Petone. For future reference : https://t.co/1w2nE62iWw', '@br4dy Spotted your tweet on pokémon hunting in Petone. For future reference : https://t.co/1w2nE62iWw', '@seanmccabe I’ll just leave this here for you … https://t.co/1w2nE62iWw', '@kingmuckraker Yup, that’s right, a sandwich. Term comes from it being buttered bread.', 'If someone wants to go ahead and arrange warm blankets, bacon butties and beers on Petone foreshore tonight, I’m going Pokémon hunting. \\n👍', '@belkincares Thanks for that. Is it only the difference in time to charge, or are there other considerations?', '@BelkinCares Heya. Should my new Belkin power pack 6000 charge from a MacBookPro usb port, or does it have to be via a wall power socket?', '@PrototypeAlex Hey fella. The plugin is out there in the world now \\\\m/', '@HamillHimself Hey fella. Hope you now get to have that milk chocolate hob nob biscuit.', 'Design Disruptors is coming!\\n\\nWGTN 20 July\\nhttps://t.co/JEcXCY4aGT\\ncc @DesignMeetupNZ \\n\\nAUCK 22 July\\nhttps://t.co/XjNjbvNhD6\\ncc @wearealmond', '@_d___d_ Noteburner? Or is Handbreak enough?', '@nzjames @yakmoose Damn the skies! Can’t be honest -and- have the good things.', '@yakmoose @nzjames Even my latest purchases have it.', 'iTunes is terrible, so I got set up on Plex media server… except all my iTunes purchases won’t play due to DRM (!?!)\\nTips / alternatives?', 'Hey @SparkNZ You can expect another angry letter of complaint from me later tonight.', 'Have you any recommendations for portable battery chargers?\\nhttps://t.co/OeLR2nB63k \\nI had a shoddy one which was useful… but short lived.', '@resn_has_no_i @DsgnAssemblyNZ @jadeshearstone Thanks for the film screening retweet you lot :) Much appreciated.', \"@jacobbuck ... and here's this https://t.co/JEcXCY4aGT\", 'Q1. Do any of the folks on the @Space_Station have Vader / Trooper masks for video calls?\\n\\nQ2. Does anyone at @NASA dress up as the Emperor?', 'Seeing out the working week with The Pixies. #workstories \\nhttps://t.co/Zj5CcMziFx', '@paxatron @danserif That drop shadow … is powerful.', '@blacklightpix Cheers for the retweet 😀', '@esteeayceeeewhy Appreciate you sharing that event tweet, Stacey ✊🏼', '@caspianievers Thanks for sharing this stuff, fella 👍🏼', '@danserif cheers for spreading word, fella :)', '@idealogmag @DesignMeetupNZ @DsgnAssemblyNZ @DesignersInst Worth me mentioning in case it’s worth a mention … https://t.co/yZPBfpbC9a', 'Design Disruptors’ NZ Premiere at Wellington’s Embassy Theatre, 20 July &gt; https://t.co/JEcXCY4aGT Please help spread the good word 🤘🏿', 'Led Zep blasting yesterday and today started with The Kinks but finishing with lots of The Cure and now some Sisters of Mercy. #workstories', '@hellomisspotter Not-so-oddly enough it’s the first time I’ve looked at a barbie and -considered- buying one for one of my kids.', 'This. https://t.co/byXIIre42F', '@iamkey Yeah bruh, bring it in for a brug. I need one on that topic too. Still strikes a raw nerve 25yrs on.', '@jecharlottee @thomaslebas I’ve deleted and reposted the tweet with the correct url, thanks \\\\m/', '@thibaultmichel_ I sent a note to DesignAssembly and they’re now keen to show it too :)', '@jecharlottee @thomaslebas Cheers you two!', 'Designers of WGTN! Design film https://t.co/56cowoa8Ms will be screening here on Wed 20 July. Details here: https://t.co/fggaUvGjtj …pls RT.', \"@nzben @kirkj @szechuan @yakmoose @rarchbarch It'll likely cost one billion dollars, but still... Keen on that and the new Yellow Submarine.\", 'Designers &amp; Disruptors of Wellington: I’ll be screening https://t.co/tVlM7xGQ6W on Wed 20 July. Details here: https://t.co/fggaUvGjtj \\\\m/', \"Good morning Wellington. I've not used the harbour ferry before. Can you just jump on and get a ticket, or do you have to go to an office?\", '@buildmaster @untappd … did this involve pre-loading?', '@we_are_atomic @usepanda Teamwork!! Double high fives!! https://t.co/6x2iiL4mKQ', '@CamilleNette Nice to see you while out and about :)', \"@ActionFigured it's not due to hit NZ til September :(\", '@tashmahal MERITS and faults.', '@tashmahal ... but I like the other : Criticism - the analysis and judgement of the merits and faults of a literary or artistic work.']\n"
     ]
    }
   ],
   "source": [
    "str_ls = get_cdata(elements)\n",
    "print(str_ls)"
   ]
  },
  {
   "cell_type": "markdown",
   "metadata": {},
   "source": [
    "### Tokenization and Vectorization "
   ]
  },
  {
   "cell_type": "code",
   "execution_count": null,
   "metadata": {},
   "outputs": [],
   "source": [
    "# \n",
    "train_dt = pd.read_csv('train_data.csv')\n",
    "train_dt.head()"
   ]
  },
  {
   "cell_type": "code",
   "execution_count": 29,
   "metadata": {},
   "outputs": [
    {
     "name": "stdout",
     "output_type": "stream",
     "text": [
      "abcdef\n"
     ]
    }
   ],
   "source": []
  },
  {
   "cell_type": "code",
   "execution_count": null,
   "metadata": {},
   "outputs": [],
   "source": [
    "stopswords = set(stopwords.words('english'))\n",
    "stopwords = list(stopwords)"
   ]
  },
  {
   "cell_type": "code",
   "execution_count": null,
   "metadata": {},
   "outputs": [],
   "source": [
    "train_docs = train_dt.content.tolist()"
   ]
  },
  {
   "cell_type": "code",
   "execution_count": null,
   "metadata": {},
   "outputs": [],
   "source": [
    "class LemmaTokenizer(object):\n",
    "    def __init__(self):\n",
    "        self.wnl=WordNetLemmatizer()\n",
    "    def __call__(self,doc):\n",
    "        return [self.wnl.lemmatize(t) for t in word_tokenize(doc)]"
   ]
  },
  {
   "cell_type": "code",
   "execution_count": null,
   "metadata": {},
   "outputs": [],
   "source": [
    "vectorizer=TfidfVectorizer(analyzer='word',input='content',\n",
    "                           lowercase=True,\n",
    "                           token_pattern='(?u)\\\\b\\\\w\\\\w+\\\\b',\n",
    "                           min_df=3,\n",
    "                           stop_words = stopwords, \n",
    "                           ngram_range=(1,2),\n",
    "                           tokenizer=LemmaTokenizer())"
   ]
  },
  {
   "cell_type": "code",
   "execution_count": null,
   "metadata": {},
   "outputs": [],
   "source": [
    "train_content = vectorizer.fit_transform(train_docs)"
   ]
  },
  {
   "cell_type": "code",
   "execution_count": null,
   "metadata": {},
   "outputs": [],
   "source": [
    "vectorizer.get_feature_names()"
   ]
  },
  {
   "cell_type": "code",
   "execution_count": null,
   "metadata": {},
   "outputs": [],
   "source": [
    "# stemming and lemmatization\n"
   ]
  },
  {
   "cell_type": "code",
   "execution_count": null,
   "metadata": {},
   "outputs": [],
   "source": []
  }
 ],
 "metadata": {
  "kernelspec": {
   "display_name": "Python 3",
   "language": "python",
   "name": "python3"
  },
  "language_info": {
   "codemirror_mode": {
    "name": "ipython",
    "version": 3
   },
   "file_extension": ".py",
   "mimetype": "text/x-python",
   "name": "python",
   "nbconvert_exporter": "python",
   "pygments_lexer": "ipython3",
   "version": "3.7.3"
  }
 },
 "nbformat": 4,
 "nbformat_minor": 2
}
